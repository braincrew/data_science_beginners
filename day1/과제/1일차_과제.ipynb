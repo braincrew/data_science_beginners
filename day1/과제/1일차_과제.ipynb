{
 "cells": [
  {
   "cell_type": "markdown",
   "metadata": {
    "colab_type": "text",
    "id": "INRGvTcl8mGR"
   },
   "source": [
    "## [과제 1]\n",
    "\n",
    "### 다음과 같이 변수를 생성하였습니다.\n",
    "### 다음 문제를 풀어주세요."
   ]
  },
  {
   "cell_type": "code",
   "execution_count": null,
   "metadata": {
    "colab": {},
    "colab_type": "code",
    "id": "WeqXVvOF-N7L"
   },
   "outputs": [],
   "source": [
    "rep1 = 11\n",
    "rep2 = 3\n",
    "rep3 = \"서울시 부동산 매매추이\"\n",
    "rep4 = [2,4,7,8,10]\n",
    "rep5 = {\"grape\":\"포도\", \"melon\":\"메론\", \"apple\":\"사과\", \"banana\":\"오렌지\"}"
   ]
  },
  {
   "cell_type": "markdown",
   "metadata": {
    "colab_type": "text",
    "id": "1sASZFrjBGzt"
   },
   "source": [
    "## 1) 변수 rep5의 데이터 형태를 확인해주세요.\n",
    "tip) dtype\n",
    "\n",
    "결과값) \n",
    "\n",
    "dict"
   ]
  },
  {
   "cell_type": "code",
   "execution_count": null,
   "metadata": {
    "colab": {
     "base_uri": "https://localhost:8080/",
     "height": 35
    },
    "colab_type": "code",
    "id": "pjoUZM2wBO1C",
    "outputId": "c4d2608e-7386-4052-c90e-32ef5ba2b287"
   },
   "outputs": [],
   "source": []
  },
  {
   "cell_type": "markdown",
   "metadata": {
    "colab_type": "text",
    "id": "t1LUDFqXB7VC"
   },
   "source": [
    "## 2) 변수 rep1을 변수 rep2로 나누었을 때 몫과 나머지를 구해주세요.\n",
    "\n",
    "결과값) \n",
    "\n",
    "몫: 3, 나머지: 2"
   ]
  },
  {
   "cell_type": "code",
   "execution_count": null,
   "metadata": {
    "colab": {
     "base_uri": "https://localhost:8080/",
     "height": 35
    },
    "colab_type": "code",
    "id": "Pc1Zga2kCUVr",
    "outputId": "13952e8f-03e4-4681-aea0-ff9a8933b757"
   },
   "outputs": [],
   "source": []
  },
  {
   "cell_type": "markdown",
   "metadata": {
    "colab_type": "text",
    "id": "n_vGwLhFDogE"
   },
   "source": [
    "## 3) 변수 rep3를 띄어쓰기를 기준으로 분리해서 리스트로 만들어주세요.\n",
    "\n",
    "결과값) \n",
    "\n",
    "['서울시', '부동산', '매매추이']"
   ]
  },
  {
   "cell_type": "code",
   "execution_count": null,
   "metadata": {
    "colab": {
     "base_uri": "https://localhost:8080/",
     "height": 35
    },
    "colab_type": "code",
    "id": "nwIRk1GcDuB-",
    "outputId": "ff3c98ee-ac41-452c-967e-0d7be87c2b67"
   },
   "outputs": [],
   "source": []
  },
  {
   "cell_type": "markdown",
   "metadata": {
    "colab_type": "text",
    "id": "CrWmZP-PEWep"
   },
   "source": [
    "## 4) 리스트 rep4의 3번째 값인 7을 6으로 수정해주세요 \n",
    "\n",
    "결과값) \n",
    "\n",
    "[2, 4, 6, 8, 10]"
   ]
  },
  {
   "cell_type": "code",
   "execution_count": null,
   "metadata": {
    "colab": {
     "base_uri": "https://localhost:8080/",
     "height": 35
    },
    "colab_type": "code",
    "id": "l-txK1FpDzYO",
    "outputId": "968fb57b-d13a-48ae-c196-a7532d991d52"
   },
   "outputs": [],
   "source": []
  },
  {
   "cell_type": "markdown",
   "metadata": {
    "colab_type": "text",
    "id": "lRZPEnO7FHML"
   },
   "source": [
    "## 5) 딕셔너리 rep5에서 banana의 값을 바나나로 수정하고, orange를 추가해주세요.\n",
    "\n",
    "결과값)\n",
    "\n",
    "{'apple': '사과', 'banana': '바나나', 'grape': '포도', 'melon': '메론', 'orange': '오렌지'}"
   ]
  },
  {
   "cell_type": "code",
   "execution_count": null,
   "metadata": {
    "colab": {
     "base_uri": "https://localhost:8080/",
     "height": 35
    },
    "colab_type": "code",
    "id": "aQbenyqkEsL1",
    "outputId": "8dbfc5a6-71cb-4198-8802-f041debbbe67"
   },
   "outputs": [],
   "source": []
  },
  {
   "cell_type": "markdown",
   "metadata": {
    "colab_type": "text",
    "id": "RjVuXC7vxfJH"
   },
   "source": [
    "## 파일 불러오기"
   ]
  },
  {
   "cell_type": "markdown",
   "metadata": {},
   "source": [
    "**apart_dealing.csv 파일을 업로드하신 후 진행해 주세요!**"
   ]
  },
  {
   "cell_type": "code",
   "execution_count": null,
   "metadata": {},
   "outputs": [],
   "source": [
    "from google.colab import files\n",
    "uploaded = files.upload()"
   ]
  },
  {
   "cell_type": "markdown",
   "metadata": {},
   "source": [
    "데이터 불러오기 (코드 수정 필요없음)"
   ]
  },
  {
   "cell_type": "code",
   "execution_count": null,
   "metadata": {
    "colab": {
     "base_uri": "https://localhost:8080/",
     "height": 1000
    },
    "colab_type": "code",
    "id": "7zRze9I7HnOs",
    "outputId": "0be09912-5331-4f19-c212-add73cd0a687"
   },
   "outputs": [],
   "source": [
    "import pandas as pd\n",
    "import io\n",
    "\n",
    "df = pd.read_csv(io.StringIO(uploaded['apart_dealing.csv'].decode('cp949')))\n",
    "df"
   ]
  },
  {
   "cell_type": "markdown",
   "metadata": {
    "colab_type": "text",
    "id": "C8CnZBVHV-H_"
   },
   "source": [
    "## [과제 3]\n",
    "\n",
    "### 단지명, 전용면적, 거래금액 컬럼만 보여주세요"
   ]
  },
  {
   "cell_type": "markdown",
   "metadata": {
    "colab": {
     "base_uri": "https://localhost:8080/",
     "height": 359
    },
    "colab_type": "code",
    "id": "Ie1Wx4rXWOD1",
    "outputId": "7afbf13f-1c7d-464c-f5a7-b5faa54cc252"
   },
   "source": [
    "![예시](http://broccoli-letter.com/data_science_beginners/img/problem_3.png)"
   ]
  },
  {
   "cell_type": "code",
   "execution_count": null,
   "metadata": {},
   "outputs": [],
   "source": []
  },
  {
   "cell_type": "markdown",
   "metadata": {
    "colab_type": "text",
    "id": "MKmJlHH5XIDF"
   },
   "source": [
    "## [과제 4]\n",
    "### 아래와 같은 조건에 따라 '규모' 이라는 새로운 컬럼을 만들어 주세요.\n",
    "#### 전용면적 60㎡이하 - 소형\n",
    "#### 전용면적 60㎡초과 85㎡이하 - 중형\n",
    "#### 전용면적 85㎡초과 102㎡이하 - 중대형\n",
    "#### 전용면적 102㎡초과 - 대형\n",
    "  "
   ]
  },
  {
   "cell_type": "markdown",
   "metadata": {
    "colab": {
     "base_uri": "https://localhost:8080/",
     "height": 204
    },
    "colab_type": "code",
    "id": "OeQ8a956YVll",
    "outputId": "0a80ad9e-92fd-4133-e504-51bee1d98cb3"
   },
   "source": [
    "![예시](https://drive.google.com/open?id=18XqT-IkvkCbocXjqGYKejw08Ny_AFOI4/view)"
   ]
  },
  {
   "cell_type": "code",
   "execution_count": null,
   "metadata": {},
   "outputs": [],
   "source": []
  },
  {
   "cell_type": "markdown",
   "metadata": {
    "colab_type": "text",
    "id": "mCz53ZZzAT_4"
   },
   "source": [
    "## [과제 5]\n",
    "### 1) '계약년월' 컬럼의 데이터와 '계약일' 컬럼의 데이터를 합쳐서 '계약일' 컬럼으로 만들고, 날짜 타입으로 변환해주세요."
   ]
  },
  {
   "cell_type": "markdown",
   "metadata": {
    "colab": {
     "base_uri": "https://localhost:8080/",
     "height": 204
    },
    "colab_type": "code",
    "id": "9CR8TkogBYUz",
    "outputId": "0e715249-e18e-4add-e751-c1965b8bc77d"
   },
   "source": [
    "![예시](http://broccoli-letter.com/data_science_beginners/img/problem_5.png)"
   ]
  },
  {
   "cell_type": "code",
   "execution_count": null,
   "metadata": {},
   "outputs": [],
   "source": []
  },
  {
   "cell_type": "markdown",
   "metadata": {
    "colab_type": "text",
    "id": "5A6Wu_9KEf9Z"
   },
   "source": [
    "### 2) 계약일 기준으로 내림차순으로 정렬해주세요."
   ]
  },
  {
   "cell_type": "markdown",
   "metadata": {
    "colab": {
     "base_uri": "https://localhost:8080/",
     "height": 204
    },
    "colab_type": "code",
    "id": "qvFZfwJYEfXX",
    "outputId": "153d57e8-5a63-450f-c26e-4308356d1c39"
   },
   "source": [
    "![예시](http://broccoli-letter.com/data_science_beginners/img/problem_5_1.png)"
   ]
  },
  {
   "cell_type": "code",
   "execution_count": null,
   "metadata": {},
   "outputs": [],
   "source": []
  },
  {
   "cell_type": "markdown",
   "metadata": {
    "colab_type": "text",
    "id": "ljEiqrUY0cOA"
   },
   "source": [
    "## [과제 6]\n",
    "#### 1) '거래금액(만원)' 컬럼을 float 형태로 변환해주세요.\n",
    "##### 힌트) 쉼표를 없애주어야 변환이 가능합니다. split()함수를 활용하세요"
   ]
  },
  {
   "cell_type": "code",
   "execution_count": null,
   "metadata": {
    "colab": {
     "base_uri": "https://localhost:8080/",
     "height": 1000
    },
    "colab_type": "code",
    "id": "67EeF0kk7l69",
    "outputId": "9af6d604-4163-4c58-af11-1c6d7c667069"
   },
   "outputs": [],
   "source": []
  },
  {
   "cell_type": "markdown",
   "metadata": {
    "colab_type": "text",
    "id": "nDjD4OfDFzm_"
   },
   "source": [
    "#### 2) '시군구' 컬럼의 데이터를 '시' 컬럼, '군'컬럼, '동'컬럼으로 분리해서 만들어 주세요"
   ]
  },
  {
   "cell_type": "markdown",
   "metadata": {
    "colab": {
     "base_uri": "https://localhost:8080/",
     "height": 306
    },
    "colab_type": "code",
    "id": "59WMEnlN2jAW",
    "outputId": "fe92ad42-065c-4526-8593-e4c4670fa0de"
   },
   "source": [
    "![예시](http://broccoli-letter.com/data_science_beginners/img/problem_6.png)"
   ]
  },
  {
   "cell_type": "markdown",
   "metadata": {
    "colab_type": "text",
    "id": "MOqhSmWNM04v"
   },
   "source": [
    "#### 3) 가락동의 중형아파트의 평균 거래금액은 얼마인가요?\"\n"
   ]
  },
  {
   "cell_type": "code",
   "execution_count": null,
   "metadata": {
    "colab": {
     "base_uri": "https://localhost:8080/",
     "height": 35
    },
    "colab_type": "code",
    "id": "Lwu3wNzN7lNp",
    "outputId": "bb7428a2-f4b3-425b-bc28-a46c62daf725"
   },
   "outputs": [],
   "source": []
  },
  {
   "cell_type": "markdown",
   "metadata": {
    "colab_type": "text",
    "id": "-qqQ3Ib9PhyR"
   },
   "source": [
    "#### 4) 5층이하인 등촌동의 중대형아파트의 단지명, 계약일, 거래금액 정보를 알려주세요."
   ]
  },
  {
   "cell_type": "markdown",
   "metadata": {
    "colab": {
     "base_uri": "https://localhost:8080/",
     "height": 1000
    },
    "colab_type": "code",
    "id": "CVyjU92k2nX_",
    "outputId": "862a062f-aa04-4f2f-f832-1d075a1bb14d"
   },
   "source": [
    "![예시](http://broccoli-letter.com/data_science_beginners/img/problem_7.png)"
   ]
  },
  {
   "cell_type": "code",
   "execution_count": null,
   "metadata": {
    "colab": {},
    "colab_type": "code",
    "id": "iCnJVKJBVulg"
   },
   "outputs": [],
   "source": []
  }
 ],
 "metadata": {
  "colab": {
   "collapsed_sections": [],
   "name": "1일차_과제.ipynb",
   "provenance": [],
   "version": "0.3.2"
  },
  "kernelspec": {
   "display_name": "Python 3",
   "language": "python",
   "name": "python3"
  },
  "language_info": {
   "codemirror_mode": {
    "name": "ipython",
    "version": 3
   },
   "file_extension": ".py",
   "mimetype": "text/x-python",
   "name": "python",
   "nbconvert_exporter": "python",
   "pygments_lexer": "ipython3",
   "version": "3.7.1"
  }
 },
 "nbformat": 4,
 "nbformat_minor": 1
}
