{
 "cells": [
  {
   "cell_type": "markdown",
   "metadata": {
    "colab_type": "text",
    "id": "9RPNaC7hbtMX"
   },
   "source": [
    "## 파일 업로드"
   ]
  },
  {
   "cell_type": "code",
   "execution_count": null,
   "metadata": {
    "colab": {
     "base_uri": "https://localhost:8080/",
     "height": 78,
     "resources": {
      "http://localhost:8080/nbextensions/google.colab/files.js": {
       "data": "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",
       "headers": [
        [
         "content-type",
         "application/javascript"
        ]
       ],
       "ok": true,
       "status": 200,
       "status_text": ""
      }
     }
    },
    "colab_type": "code",
    "executionInfo": {
     "elapsed": 10434,
     "status": "ok",
     "timestamp": 1566278908730,
     "user": {
      "displayName": "김정욱",
      "photoUrl": "",
      "userId": "07474346534880337789"
     },
     "user_tz": -540
    },
    "id": "evM3TO3Y5Rm3",
    "outputId": "26d13200-bec2-4f5a-d1bf-4286883a76a2"
   },
   "outputs": [],
   "source": [
    "from google.colab import files\n",
    "uploaded = files.upload()"
   ]
  },
  {
   "cell_type": "code",
   "execution_count": null,
   "metadata": {
    "colab": {
     "base_uri": "https://localhost:8080/",
     "height": 1000
    },
    "colab_type": "code",
    "executionInfo": {
     "elapsed": 501,
     "status": "ok",
     "timestamp": 1566280746690,
     "user": {
      "displayName": "김정욱",
      "photoUrl": "",
      "userId": "07474346534880337789"
     },
     "user_tz": -540
    },
    "id": "SbLeJ2075Rm9",
    "outputId": "f5331e40-bd70-45ed-d235-c2e482649332"
   },
   "outputs": [],
   "source": [
    "import pandas as pd\n",
    "import io\n",
    "\n",
    "df = pd.read_csv(io.StringIO(uploaded['house_price.csv'].decode('cp949')))\n",
    "df"
   ]
  },
  {
   "cell_type": "markdown",
   "metadata": {
    "colab_type": "text",
    "id": "siIbT7beb3L2"
   },
   "source": [
    "## 상위 데이터 보기 "
   ]
  },
  {
   "cell_type": "code",
   "execution_count": null,
   "metadata": {
    "colab": {
     "base_uri": "https://localhost:8080/",
     "height": 204
    },
    "colab_type": "code",
    "executionInfo": {
     "elapsed": 591,
     "status": "ok",
     "timestamp": 1566280748020,
     "user": {
      "displayName": "김정욱",
      "photoUrl": "",
      "userId": "07474346534880337789"
     },
     "user_tz": -540
    },
    "id": "Ncr6hEpz5RnJ",
    "outputId": "46c0c160-4bc8-4597-8e43-6dc2846f5877"
   },
   "outputs": [],
   "source": [
    "df.head()"
   ]
  },
  {
   "cell_type": "markdown",
   "metadata": {
    "colab_type": "text",
    "id": "UvJMZAL_b9Yp"
   },
   "source": [
    "## 상위 데이터 10행 보기"
   ]
  },
  {
   "cell_type": "code",
   "execution_count": null,
   "metadata": {
    "colab": {
     "base_uri": "https://localhost:8080/",
     "height": 359
    },
    "colab_type": "code",
    "executionInfo": {
     "elapsed": 444,
     "status": "ok",
     "timestamp": 1566280749017,
     "user": {
      "displayName": "김정욱",
      "photoUrl": "",
      "userId": "07474346534880337789"
     },
     "user_tz": -540
    },
    "id": "k2szOK1L5RnO",
    "outputId": "39a0c0b3-e3aa-4066-bdb5-421a4e620c28"
   },
   "outputs": [],
   "source": [
    "df.head(10)"
   ]
  },
  {
   "cell_type": "markdown",
   "metadata": {
    "colab_type": "text",
    "id": "HnGpu_P1cCaJ"
   },
   "source": [
    "## 하위 데이터 보기"
   ]
  },
  {
   "cell_type": "code",
   "execution_count": null,
   "metadata": {
    "colab": {
     "base_uri": "https://localhost:8080/",
     "height": 204
    },
    "colab_type": "code",
    "executionInfo": {
     "elapsed": 469,
     "status": "ok",
     "timestamp": 1566280750146,
     "user": {
      "displayName": "김정욱",
      "photoUrl": "",
      "userId": "07474346534880337789"
     },
     "user_tz": -540
    },
    "id": "VhbXruR_5RnY",
    "outputId": "c8721b84-99f9-4974-f1b5-2ebd91b57ccf"
   },
   "outputs": [],
   "source": [
    "df.tail()"
   ]
  },
  {
   "cell_type": "markdown",
   "metadata": {
    "colab_type": "text",
    "id": "hAMtTEercJ2g"
   },
   "source": [
    "## 데이터의 행과 열의 갯수 보기"
   ]
  },
  {
   "cell_type": "code",
   "execution_count": null,
   "metadata": {
    "colab": {
     "base_uri": "https://localhost:8080/",
     "height": 35
    },
    "colab_type": "code",
    "executionInfo": {
     "elapsed": 611,
     "status": "ok",
     "timestamp": 1566280751075,
     "user": {
      "displayName": "김정욱",
      "photoUrl": "",
      "userId": "07474346534880337789"
     },
     "user_tz": -540
    },
    "id": "n3x_eSnI5Rnf",
    "outputId": "cc124267-1b12-497e-c971-0d7ca9da93bd"
   },
   "outputs": [],
   "source": [
    "df.shape"
   ]
  },
  {
   "cell_type": "markdown",
   "metadata": {
    "colab_type": "text",
    "id": "ryMYAn1FcYjS"
   },
   "source": [
    "## 열(column) 별로 데이터 보기"
   ]
  },
  {
   "cell_type": "code",
   "execution_count": null,
   "metadata": {
    "colab": {
     "base_uri": "https://localhost:8080/",
     "height": 1000
    },
    "colab_type": "code",
    "executionInfo": {
     "elapsed": 566,
     "status": "ok",
     "timestamp": 1566280751914,
     "user": {
      "displayName": "김정욱",
      "photoUrl": "",
      "userId": "07474346534880337789"
     },
     "user_tz": -540
    },
    "id": "Hc0ID5Gk5Rn4",
    "outputId": "af9391f0-7009-40f5-8563-4e26d573d7ba"
   },
   "outputs": [],
   "source": [
    "df[\"지역명\"]"
   ]
  },
  {
   "cell_type": "code",
   "execution_count": null,
   "metadata": {
    "colab": {
     "base_uri": "https://localhost:8080/",
     "height": 1000
    },
    "colab_type": "code",
    "executionInfo": {
     "elapsed": 404,
     "status": "ok",
     "timestamp": 1566280752843,
     "user": {
      "displayName": "김정욱",
      "photoUrl": "",
      "userId": "07474346534880337789"
     },
     "user_tz": -540
    },
    "id": "-py4hCQT5RoM",
    "outputId": "dce49e75-31ff-49b1-c1dc-367b28d48e87"
   },
   "outputs": [],
   "source": [
    "col=[\"지역명\",\"규모구분\", \"연도\"]\n",
    "df[col]"
   ]
  },
  {
   "cell_type": "markdown",
   "metadata": {
    "colab_type": "text",
    "id": "a8sxJ0d1cqYF"
   },
   "source": [
    "## 행(row) 별로 데이터 보기"
   ]
  },
  {
   "cell_type": "code",
   "execution_count": null,
   "metadata": {
    "colab": {
     "base_uri": "https://localhost:8080/",
     "height": 125
    },
    "colab_type": "code",
    "executionInfo": {
     "elapsed": 447,
     "status": "ok",
     "timestamp": 1566280753807,
     "user": {
      "displayName": "김정욱",
      "photoUrl": "",
      "userId": "07474346534880337789"
     },
     "user_tz": -540
    },
    "id": "7kxlsLDz5RoZ",
    "outputId": "0d8d8797-5b8e-478d-912f-78fd233b0788"
   },
   "outputs": [],
   "source": [
    "df.loc[1]"
   ]
  },
  {
   "cell_type": "code",
   "execution_count": null,
   "metadata": {
    "colab": {
     "base_uri": "https://localhost:8080/",
     "height": 204
    },
    "colab_type": "code",
    "executionInfo": {
     "elapsed": 543,
     "status": "ok",
     "timestamp": 1566280754746,
     "user": {
      "displayName": "김정욱",
      "photoUrl": "",
      "userId": "07474346534880337789"
     },
     "user_tz": -540
    },
    "id": "C4sZ4Stw5Roj",
    "outputId": "2218addb-3d56-4422-b7a0-a8b1fa403466"
   },
   "outputs": [],
   "source": [
    "df.loc[1:5]"
   ]
  },
  {
   "cell_type": "code",
   "execution_count": null,
   "metadata": {
    "colab": {
     "base_uri": "https://localhost:8080/",
     "height": 142
    },
    "colab_type": "code",
    "executionInfo": {
     "elapsed": 597,
     "status": "ok",
     "timestamp": 1566280755617,
     "user": {
      "displayName": "김정욱",
      "photoUrl": "",
      "userId": "07474346534880337789"
     },
     "user_tz": -540
    },
    "id": "DFxY8cMa5Ros",
    "outputId": "6abd08d5-4e0e-4dd4-a767-ce1c00f7fd9e"
   },
   "outputs": [],
   "source": [
    "df.reindex([1,3,5])"
   ]
  },
  {
   "cell_type": "markdown",
   "metadata": {
    "colab_type": "text",
    "id": "yI44kmrlc1AS"
   },
   "source": [
    "## 열(row)과 행(column) 별로 데이터 보기"
   ]
  },
  {
   "cell_type": "code",
   "execution_count": null,
   "metadata": {
    "colab": {
     "base_uri": "https://localhost:8080/",
     "height": 35
    },
    "colab_type": "code",
    "executionInfo": {
     "elapsed": 623,
     "status": "ok",
     "timestamp": 1566280756406,
     "user": {
      "displayName": "김정욱",
      "photoUrl": "",
      "userId": "07474346534880337789"
     },
     "user_tz": -540
    },
    "id": "OVKADl8N5Roy",
    "outputId": "2c2b786f-efa4-4a93-f23c-ad81d27c3eae"
   },
   "outputs": [],
   "source": [
    "df.loc[1,\"지역명\"]"
   ]
  },
  {
   "cell_type": "code",
   "execution_count": null,
   "metadata": {
    "colab": {
     "base_uri": "https://localhost:8080/",
     "height": 89
    },
    "colab_type": "code",
    "executionInfo": {
     "elapsed": 639,
     "status": "ok",
     "timestamp": 1566280757225,
     "user": {
      "displayName": "김정욱",
      "photoUrl": "",
      "userId": "07474346534880337789"
     },
     "user_tz": -540
    },
    "id": "YfC7hL5G5Ro6",
    "outputId": "84bf836d-8f33-4629-facd-1328d70b6be8"
   },
   "outputs": [],
   "source": [
    "df.loc[1,[\"지역명\",\"규모구분\",\"연도\"]]"
   ]
  },
  {
   "cell_type": "code",
   "execution_count": null,
   "metadata": {
    "colab": {
     "base_uri": "https://localhost:8080/",
     "height": 89
    },
    "colab_type": "code",
    "executionInfo": {
     "elapsed": 385,
     "status": "ok",
     "timestamp": 1566280758194,
     "user": {
      "displayName": "김정욱",
      "photoUrl": "",
      "userId": "07474346534880337789"
     },
     "user_tz": -540
    },
    "id": "CxMiUO_t5Ro_",
    "outputId": "6867dfc2-c67c-4fcd-b1cd-499961a862c0"
   },
   "outputs": [],
   "source": [
    "df.loc[[1,3,5],\"지역명\"]"
   ]
  },
  {
   "cell_type": "code",
   "execution_count": null,
   "metadata": {
    "colab": {
     "base_uri": "https://localhost:8080/",
     "height": 125
    },
    "colab_type": "code",
    "executionInfo": {
     "elapsed": 460,
     "status": "ok",
     "timestamp": 1566280759181,
     "user": {
      "displayName": "김정욱",
      "photoUrl": "",
      "userId": "07474346534880337789"
     },
     "user_tz": -540
    },
    "id": "T3wt69Zc5RpD",
    "outputId": "7cc9d4d8-56b3-4369-a14b-2242e3786c8b"
   },
   "outputs": [],
   "source": [
    "df.loc[1:5,\"지역명\"]"
   ]
  },
  {
   "cell_type": "code",
   "execution_count": null,
   "metadata": {
    "colab": {
     "base_uri": "https://localhost:8080/",
     "height": 142
    },
    "colab_type": "code",
    "executionInfo": {
     "elapsed": 368,
     "status": "ok",
     "timestamp": 1566280760123,
     "user": {
      "displayName": "김정욱",
      "photoUrl": "",
      "userId": "07474346534880337789"
     },
     "user_tz": -540
    },
    "id": "M-L6rGNh5RpI",
    "outputId": "1bf1ed3e-cca1-46bc-b17a-869ecad79f1b"
   },
   "outputs": [],
   "source": [
    "df.loc[[1,3,5],[\"지역명\",\"규모구분\",\"연도\"]]"
   ]
  },
  {
   "cell_type": "markdown",
   "metadata": {
    "colab_type": "text",
    "id": "Q-cGUUDUdMNM"
   },
   "source": [
    "## df 데이터프레임의 컬럼별 데이터의 형태 보기"
   ]
  },
  {
   "cell_type": "code",
   "execution_count": null,
   "metadata": {
    "colab": {
     "base_uri": "https://localhost:8080/",
     "height": 125
    },
    "colab_type": "code",
    "executionInfo": {
     "elapsed": 396,
     "status": "ok",
     "timestamp": 1566280761076,
     "user": {
      "displayName": "김정욱",
      "photoUrl": "",
      "userId": "07474346534880337789"
     },
     "user_tz": -540
    },
    "id": "F5a1aG1o5RpO",
    "outputId": "82cfb832-2a43-49b0-c0c0-28c6edcfffb7"
   },
   "outputs": [],
   "source": [
    "df.dtypes"
   ]
  },
  {
   "cell_type": "markdown",
   "metadata": {
    "colab_type": "text",
    "id": "M70HRRoYdccA"
   },
   "source": [
    "## 컬럼 이름 바꾸기"
   ]
  },
  {
   "cell_type": "code",
   "execution_count": null,
   "metadata": {
    "colab": {},
    "colab_type": "code",
    "id": "lwDXiusq5RpS"
   },
   "outputs": [],
   "source": [
    "df=df.rename(columns={'분양가격(㎡)':'분양가'})"
   ]
  },
  {
   "cell_type": "markdown",
   "metadata": {
    "colab_type": "text",
    "id": "6RWq2dHEdgzr"
   },
   "source": [
    "## 컬럼의 형태 바꾸기"
   ]
  },
  {
   "cell_type": "code",
   "execution_count": null,
   "metadata": {
    "colab": {
     "base_uri": "https://localhost:8080/",
     "height": 91
    },
    "colab_type": "code",
    "executionInfo": {
     "elapsed": 552,
     "status": "ok",
     "timestamp": 1566280763322,
     "user": {
      "displayName": "김정욱",
      "photoUrl": "",
      "userId": "07474346534880337789"
     },
     "user_tz": -540
    },
    "id": "64mRvlUB5Rpg",
    "outputId": "46c7761a-1b1f-4f28-c893-c03699d58657"
   },
   "outputs": [],
   "source": [
    "df['분양가'] = df['분양가'].convert_objects(convert_numeric=True)"
   ]
  },
  {
   "cell_type": "markdown",
   "metadata": {
    "colab_type": "text",
    "id": "AeL97ML4dnhe"
   },
   "source": [
    "## 새로운 컬럼 만들기"
   ]
  },
  {
   "cell_type": "code",
   "execution_count": null,
   "metadata": {
    "colab": {},
    "colab_type": "code",
    "id": "453R8-bM5Rpl"
   },
   "outputs": [],
   "source": [
    "df[\"평당분양가\"]=df[\"분양가\"]//3.3"
   ]
  },
  {
   "cell_type": "code",
   "execution_count": null,
   "metadata": {
    "colab": {
     "base_uri": "https://localhost:8080/",
     "height": 204
    },
    "colab_type": "code",
    "executionInfo": {
     "elapsed": 622,
     "status": "ok",
     "timestamp": 1566280765827,
     "user": {
      "displayName": "김정욱",
      "photoUrl": "",
      "userId": "07474346534880337789"
     },
     "user_tz": -540
    },
    "id": "JKC8u-ef5Rpq",
    "outputId": "13397b0e-1510-4601-dc00-2f13ddf9d130"
   },
   "outputs": [],
   "source": [
    "df.head()"
   ]
  },
  {
   "cell_type": "markdown",
   "metadata": {
    "colab_type": "text",
    "id": "89V9gt6tdtVD"
   },
   "source": [
    "## 컬럼 추가하기"
   ]
  },
  {
   "cell_type": "code",
   "execution_count": null,
   "metadata": {
    "colab": {
     "base_uri": "https://localhost:8080/",
     "height": 204
    },
    "colab_type": "code",
    "executionInfo": {
     "elapsed": 367,
     "status": "ok",
     "timestamp": 1566280766812,
     "user": {
      "displayName": "김정욱",
      "photoUrl": "",
      "userId": "07474346534880337789"
     },
     "user_tz": -540
    },
    "id": "RYjOXfmW5Rpv",
    "outputId": "85a644ef-ad69-4dd7-f3bf-02abb1b1e116"
   },
   "outputs": [],
   "source": [
    "df[\"국가\"]=\"대한민국\"\n",
    "df[[\"국가\"]].head()"
   ]
  },
  {
   "cell_type": "code",
   "execution_count": null,
   "metadata": {
    "colab": {
     "base_uri": "https://localhost:8080/",
     "height": 204
    },
    "colab_type": "code",
    "executionInfo": {
     "elapsed": 466,
     "status": "ok",
     "timestamp": 1566280767851,
     "user": {
      "displayName": "김정욱",
      "photoUrl": "",
      "userId": "07474346534880337789"
     },
     "user_tz": -540
    },
    "id": "eOFCXSZW5Rp5",
    "outputId": "5811fceb-d8ce-4d2e-fd22-179526db8dd6"
   },
   "outputs": [],
   "source": [
    "df.head()"
   ]
  },
  {
   "cell_type": "markdown",
   "metadata": {
    "colab_type": "text",
    "id": "KhETnSM4d2iI"
   },
   "source": [
    "## 컬럼 삭제하기"
   ]
  },
  {
   "cell_type": "code",
   "execution_count": null,
   "metadata": {
    "colab": {
     "base_uri": "https://localhost:8080/",
     "height": 204
    },
    "colab_type": "code",
    "executionInfo": {
     "elapsed": 366,
     "status": "ok",
     "timestamp": 1566280768805,
     "user": {
      "displayName": "김정욱",
      "photoUrl": "",
      "userId": "07474346534880337789"
     },
     "user_tz": -540
    },
    "id": "xr7CWjZG5RqA",
    "outputId": "1e054f4f-bce6-43ea-813c-d50497dc4e95"
   },
   "outputs": [],
   "source": [
    "df=df.drop(\"국가\", axis=1)\n",
    "df.head()"
   ]
  },
  {
   "cell_type": "markdown",
   "metadata": {
    "colab_type": "text",
    "id": "cjY9aMyGd-6k"
   },
   "source": [
    "## 위치 지정하여 컬럼 추가하기"
   ]
  },
  {
   "cell_type": "code",
   "execution_count": null,
   "metadata": {
    "colab": {
     "base_uri": "https://localhost:8080/",
     "height": 204
    },
    "colab_type": "code",
    "executionInfo": {
     "elapsed": 373,
     "status": "ok",
     "timestamp": 1566280769843,
     "user": {
      "displayName": "김정욱",
      "photoUrl": "",
      "userId": "07474346534880337789"
     },
     "user_tz": -540
    },
    "id": "rZ1oFJfU5RqH",
    "outputId": "69f48b72-ff54-442d-cd48-251724878c18"
   },
   "outputs": [],
   "source": [
    "df.insert(0,\"국가\",\"대한민국\")\n",
    "df.head()"
   ]
  },
  {
   "cell_type": "markdown",
   "metadata": {
    "colab_type": "text",
    "id": "3ocFKX9meDYc"
   },
   "source": [
    "## 조건에 따라 컬럼 추가하기"
   ]
  },
  {
   "cell_type": "code",
   "execution_count": null,
   "metadata": {
    "colab": {
     "base_uri": "https://localhost:8080/",
     "height": 204
    },
    "colab_type": "code",
    "executionInfo": {
     "elapsed": 405,
     "status": "ok",
     "timestamp": 1566280770750,
     "user": {
      "displayName": "김정욱",
      "photoUrl": "",
      "userId": "07474346534880337789"
     },
     "user_tz": -540
    },
    "id": "m4A7hUtn5RqX",
    "outputId": "7b7cb667-77bf-4c6f-eafc-cafd37d5981c"
   },
   "outputs": [],
   "source": [
    "df[\"평가\"]=df[\"평당분양가\"]>1500\n",
    "df.head()"
   ]
  },
  {
   "cell_type": "code",
   "execution_count": null,
   "metadata": {
    "colab": {
     "base_uri": "https://localhost:8080/",
     "height": 204
    },
    "colab_type": "code",
    "executionInfo": {
     "elapsed": 421,
     "status": "ok",
     "timestamp": 1566280771678,
     "user": {
      "displayName": "김정욱",
      "photoUrl": "",
      "userId": "07474346534880337789"
     },
     "user_tz": -540
    },
    "id": "3ezifLLk5Rqc",
    "outputId": "55a52479-b932-4f74-fb5b-a9f86559a6b3"
   },
   "outputs": [],
   "source": [
    "df.loc[df[\"평당분양가\"]>1500, \"평가\"]=\"비쌈\"\n",
    "df.loc[df[\"평당분양가\"]<=1500, \"평가\"]=\"보통\"\n",
    "df.head()"
   ]
  },
  {
   "cell_type": "markdown",
   "metadata": {
    "colab_type": "text",
    "id": "N9qkTiJXePWz"
   },
   "source": [
    "## 조건이 2개 이상일 경우 & 활용해서 컬럼 추가하기 "
   ]
  },
  {
   "cell_type": "code",
   "execution_count": null,
   "metadata": {
    "colab": {
     "base_uri": "https://localhost:8080/",
     "height": 204
    },
    "colab_type": "code",
    "executionInfo": {
     "elapsed": 500,
     "status": "ok",
     "timestamp": 1566280772732,
     "user": {
      "displayName": "김정욱",
      "photoUrl": "",
      "userId": "07474346534880337789"
     },
     "user_tz": -540
    },
    "id": "bpsrt7rw5Rqk",
    "outputId": "158f74fb-31e8-4b41-da8a-b4f6b00c86e0"
   },
   "outputs": [],
   "source": [
    "df.loc[df[\"평당분양가\"]<800, \"평가\"]=\"저렴\"\n",
    "df.loc[(df[\"평당분양가\"]>=800) & (df[\"평당분양가\"]<=1500), \"평가\"]=\"보통\"\n",
    "df.loc[df[\"평당분양가\"]>1500, \"평가\"]=\"비쌈\"\n",
    "df.head()"
   ]
  },
  {
   "cell_type": "markdown",
   "metadata": {
    "colab_type": "text",
    "id": "8unUphUJeSbE"
   },
   "source": [
    "## 조건이 2개 이상일 경우 | 활용해서 컬럼 추가하기 "
   ]
  },
  {
   "cell_type": "code",
   "execution_count": null,
   "metadata": {
    "colab": {
     "base_uri": "https://localhost:8080/",
     "height": 204
    },
    "colab_type": "code",
    "executionInfo": {
     "elapsed": 559,
     "status": "ok",
     "timestamp": 1566280773934,
     "user": {
      "displayName": "김정욱",
      "photoUrl": "",
      "userId": "07474346534880337789"
     },
     "user_tz": -540
    },
    "id": "DYfAr3qo5Rqo",
    "outputId": "18bd69e9-380c-4389-bcf1-c4e096cfc57f"
   },
   "outputs": [],
   "source": [
    "df.loc[(df[\"지역명\"]==\"서울\") | (df[\"지역명\"]==\"인천\") | (df[\"지역명\"]==\"경기\"), \"광역권\"]=\"수도권\"\n",
    "df.head()"
   ]
  },
  {
   "cell_type": "markdown",
   "metadata": {
    "colab_type": "text",
    "id": "JIGLLlDveWQv"
   },
   "source": [
    "## 컬럼의 데이터 변경하기"
   ]
  },
  {
   "cell_type": "code",
   "execution_count": null,
   "metadata": {
    "colab": {
     "base_uri": "https://localhost:8080/",
     "height": 204
    },
    "colab_type": "code",
    "executionInfo": {
     "elapsed": 532,
     "status": "ok",
     "timestamp": 1566280775470,
     "user": {
      "displayName": "김정욱",
      "photoUrl": "",
      "userId": "07474346534880337789"
     },
     "user_tz": -540
    },
    "id": "MaPpz6S6jRsj",
    "outputId": "2483618e-7fde-462e-89aa-def3e4650378"
   },
   "outputs": [],
   "source": [
    "df[\"규모구분\"]=df[\"규모구분\"].apply(lambda a: a[5:])\n",
    "df.head()"
   ]
  },
  {
   "cell_type": "markdown",
   "metadata": {
    "colab_type": "text",
    "id": "_wRBkx1CecJW"
   },
   "source": [
    "## 데이터프레임의 컬럼 확인하기"
   ]
  },
  {
   "cell_type": "code",
   "execution_count": null,
   "metadata": {
    "colab": {
     "base_uri": "https://localhost:8080/",
     "height": 35
    },
    "colab_type": "code",
    "executionInfo": {
     "elapsed": 395,
     "status": "ok",
     "timestamp": 1566280776487,
     "user": {
      "displayName": "김정욱",
      "photoUrl": "",
      "userId": "07474346534880337789"
     },
     "user_tz": -540
    },
    "id": "7CXr9Y145Rqy",
    "outputId": "43937fb8-72d7-4c1d-fdd2-45e952c2b222"
   },
   "outputs": [],
   "source": [
    "df.columns"
   ]
  },
  {
   "cell_type": "markdown",
   "metadata": {
    "colab_type": "text",
    "id": "4vnomDXIegOz"
   },
   "source": [
    "## 컬럼 위치 조정하기"
   ]
  },
  {
   "cell_type": "code",
   "execution_count": null,
   "metadata": {
    "colab": {
     "base_uri": "https://localhost:8080/",
     "height": 204
    },
    "colab_type": "code",
    "executionInfo": {
     "elapsed": 507,
     "status": "ok",
     "timestamp": 1566280778089,
     "user": {
      "displayName": "김정욱",
      "photoUrl": "",
      "userId": "07474346534880337789"
     },
     "user_tz": -540
    },
    "id": "owHJioZ85Rq6",
    "outputId": "91f8a95c-10cc-4fdc-d112-f8ce8fcc42e6"
   },
   "outputs": [],
   "source": [
    "df=pd.DataFrame(df, columns=['국가', '광역권','지역명', '규모구분', '연도', '월', '분양가', '평당분양가', '평가'])\n",
    "df.head()"
   ]
  },
  {
   "cell_type": "markdown",
   "metadata": {
    "colab_type": "text",
    "id": "VdLpRAO2ekHP"
   },
   "source": [
    "## 수학/통계 연산 활용하기 "
   ]
  },
  {
   "cell_type": "code",
   "execution_count": null,
   "metadata": {
    "colab": {
     "base_uri": "https://localhost:8080/",
     "height": 297
    },
    "colab_type": "code",
    "executionInfo": {
     "elapsed": 482,
     "status": "ok",
     "timestamp": 1566280779778,
     "user": {
      "displayName": "김정욱",
      "photoUrl": "",
      "userId": "07474346534880337789"
     },
     "user_tz": -540
    },
    "id": "eX7pcqN65RrC",
    "outputId": "806bd306-7f5c-4a33-fc74-14b91fd8e7c7"
   },
   "outputs": [],
   "source": [
    "df.describe()"
   ]
  },
  {
   "cell_type": "markdown",
   "metadata": {
    "colab_type": "text",
    "id": "sheCARyOe1bW"
   },
   "source": [
    "## 평균값 보기\n"
   ]
  },
  {
   "cell_type": "code",
   "execution_count": null,
   "metadata": {
    "colab": {
     "base_uri": "https://localhost:8080/",
     "height": 35
    },
    "colab_type": "code",
    "executionInfo": {
     "elapsed": 576,
     "status": "ok",
     "timestamp": 1566280781777,
     "user": {
      "displayName": "김정욱",
      "photoUrl": "",
      "userId": "07474346534880337789"
     },
     "user_tz": -540
    },
    "id": "9W_LCRc_5RrF",
    "outputId": "3541bfce-8856-4044-fdd1-50e11a5233cc"
   },
   "outputs": [],
   "source": [
    "df[\"분양가\"].mean()"
   ]
  },
  {
   "cell_type": "markdown",
   "metadata": {
    "colab_type": "text",
    "id": "Ek4Vd1zeiXHJ"
   },
   "source": [
    "## 최댓값 보기"
   ]
  },
  {
   "cell_type": "code",
   "execution_count": null,
   "metadata": {
    "colab": {
     "base_uri": "https://localhost:8080/",
     "height": 35
    },
    "colab_type": "code",
    "executionInfo": {
     "elapsed": 638,
     "status": "ok",
     "timestamp": 1566280782637,
     "user": {
      "displayName": "김정욱",
      "photoUrl": "",
      "userId": "07474346534880337789"
     },
     "user_tz": -540
    },
    "id": "mNiESg9O5RrK",
    "outputId": "97245232-23d9-4e5e-b359-9622ea3c9c0a"
   },
   "outputs": [],
   "source": [
    "df[\"분양가\"].max()"
   ]
  },
  {
   "cell_type": "markdown",
   "metadata": {
    "colab_type": "text",
    "id": "0Y0KSJ-ridbm"
   },
   "source": [
    "## 최솟값 보기"
   ]
  },
  {
   "cell_type": "code",
   "execution_count": null,
   "metadata": {
    "colab": {
     "base_uri": "https://localhost:8080/",
     "height": 35
    },
    "colab_type": "code",
    "executionInfo": {
     "elapsed": 590,
     "status": "ok",
     "timestamp": 1566280783449,
     "user": {
      "displayName": "김정욱",
      "photoUrl": "",
      "userId": "07474346534880337789"
     },
     "user_tz": -540
    },
    "id": "mO1yl86D5RrQ",
    "outputId": "8e2686db-2568-4fd5-fba4-d6a4d64e3e79"
   },
   "outputs": [],
   "source": [
    "df[\"분양가\"].min()"
   ]
  },
  {
   "cell_type": "markdown",
   "metadata": {
    "colab_type": "text",
    "id": "P7xP5PaSilSL"
   },
   "source": [
    "## index로 정렬하기 - 내림차순 정렬"
   ]
  },
  {
   "cell_type": "code",
   "execution_count": null,
   "metadata": {
    "colab": {
     "base_uri": "https://localhost:8080/",
     "height": 204
    },
    "colab_type": "code",
    "executionInfo": {
     "elapsed": 497,
     "status": "ok",
     "timestamp": 1566280784512,
     "user": {
      "displayName": "김정욱",
      "photoUrl": "",
      "userId": "07474346534880337789"
     },
     "user_tz": -540
    },
    "id": "YxqLwrch5RrU",
    "outputId": "8c4c3f2c-ca5a-4c9f-a72d-9bbdfe28a7e3"
   },
   "outputs": [],
   "source": [
    "df.sort_index(axis=0, ascending=False).head()"
   ]
  },
  {
   "cell_type": "code",
   "execution_count": null,
   "metadata": {
    "colab": {
     "base_uri": "https://localhost:8080/",
     "height": 204
    },
    "colab_type": "code",
    "executionInfo": {
     "elapsed": 389,
     "status": "ok",
     "timestamp": 1566280785684,
     "user": {
      "displayName": "김정욱",
      "photoUrl": "",
      "userId": "07474346534880337789"
     },
     "user_tz": -540
    },
    "id": "RjLbSzb05RrY",
    "outputId": "cde90c3c-f232-45f8-c857-e508674b10f6"
   },
   "outputs": [],
   "source": [
    "df.sort_index(axis=0, ascending=False)[:5]"
   ]
  },
  {
   "cell_type": "markdown",
   "metadata": {
    "colab_type": "text",
    "id": "76h6r1Zwk0k1"
   },
   "source": [
    "## index로 정렬하기 - 오름차순 정렬"
   ]
  },
  {
   "cell_type": "code",
   "execution_count": null,
   "metadata": {
    "colab": {
     "base_uri": "https://localhost:8080/",
     "height": 204
    },
    "colab_type": "code",
    "executionInfo": {
     "elapsed": 602,
     "status": "ok",
     "timestamp": 1566280787070,
     "user": {
      "displayName": "김정욱",
      "photoUrl": "",
      "userId": "07474346534880337789"
     },
     "user_tz": -540
    },
    "id": "If_sAOnR5Rrd",
    "outputId": "ed730192-7881-423e-b706-11f1ed50a218"
   },
   "outputs": [],
   "source": [
    "df.sort_index(axis=0, ascending=True)[:5]"
   ]
  },
  {
   "cell_type": "markdown",
   "metadata": {
    "colab_type": "text",
    "id": "ewJqlNPFk4QJ"
   },
   "source": [
    "## 컬럼 별로 정렬하기"
   ]
  },
  {
   "cell_type": "code",
   "execution_count": null,
   "metadata": {
    "colab": {
     "base_uri": "https://localhost:8080/",
     "height": 204
    },
    "colab_type": "code",
    "executionInfo": {
     "elapsed": 480,
     "status": "ok",
     "timestamp": 1566280788076,
     "user": {
      "displayName": "김정욱",
      "photoUrl": "",
      "userId": "07474346534880337789"
     },
     "user_tz": -540
    },
    "id": "5TJOaOeK5Rrl",
    "outputId": "6007880c-c425-48e2-e4d4-24d533cf1275"
   },
   "outputs": [],
   "source": [
    "df.sort_values(by=\"지역명\")[:5]"
   ]
  },
  {
   "cell_type": "code",
   "execution_count": null,
   "metadata": {
    "colab": {
     "base_uri": "https://localhost:8080/",
     "height": 204
    },
    "colab_type": "code",
    "executionInfo": {
     "elapsed": 548,
     "status": "ok",
     "timestamp": 1566280789218,
     "user": {
      "displayName": "김정욱",
      "photoUrl": "",
      "userId": "07474346534880337789"
     },
     "user_tz": -540
    },
    "id": "cwGPFWee5Rro",
    "outputId": "1b272358-5cc2-4e9c-bcf6-460cdbec2ff9"
   },
   "outputs": [],
   "source": [
    "df.sort_values(by=\"분양가\", ascending=False)[:5]"
   ]
  },
  {
   "cell_type": "markdown",
   "metadata": {
    "colab_type": "text",
    "id": "3ramHOSYk-jw"
   },
   "source": [
    "## 문자열 변환하기 / 문자열을 이어서 새로운 컬럼의 값으로 넣기"
   ]
  },
  {
   "cell_type": "code",
   "execution_count": null,
   "metadata": {
    "colab": {
     "base_uri": "https://localhost:8080/",
     "height": 204
    },
    "colab_type": "code",
    "executionInfo": {
     "elapsed": 574,
     "status": "ok",
     "timestamp": 1566281026429,
     "user": {
      "displayName": "김정욱",
      "photoUrl": "",
      "userId": "07474346534880337789"
     },
     "user_tz": -540
    },
    "id": "WO7RQOA95Rrt",
    "outputId": "6b6464b4-57f9-470c-b947-7664821f574c"
   },
   "outputs": [],
   "source": [
    "df[\"연도(str)\"]=df[\"연도\"].astype('str')\n",
    "df[\"월(str)\"]=df[\"월\"].astype('str')\n",
    "\n",
    "df[\"날짜\"]=df[\"연도(str)\"] + df[\"월(str)\"]\n",
    "df.head()"
   ]
  },
  {
   "cell_type": "code",
   "execution_count": null,
   "metadata": {
    "colab": {
     "base_uri": "https://localhost:8080/",
     "height": 251
    },
    "colab_type": "code",
    "executionInfo": {
     "elapsed": 514,
     "status": "ok",
     "timestamp": 1566280791884,
     "user": {
      "displayName": "김정욱",
      "photoUrl": "",
      "userId": "07474346534880337789"
     },
     "user_tz": -540
    },
    "id": "EGrJxK4X5Rr0",
    "outputId": "737bc5d1-4bc9-4dcc-ece8-10cd6f941110"
   },
   "outputs": [],
   "source": [
    "df.dtypes"
   ]
  },
  {
   "cell_type": "markdown",
   "metadata": {
    "colab_type": "text",
    "id": "5lPse9y_l18D"
   },
   "source": [
    "## Datetime으로 변환하기 "
   ]
  },
  {
   "cell_type": "code",
   "execution_count": null,
   "metadata": {
    "colab": {},
    "colab_type": "code",
    "id": "3gO9DAww5Rr7"
   },
   "outputs": [],
   "source": [
    "df[\"날짜\"]=pd.to_datetime(df[\"날짜\"],format='%Y%m')"
   ]
  },
  {
   "cell_type": "code",
   "execution_count": null,
   "metadata": {
    "colab": {
     "base_uri": "https://localhost:8080/",
     "height": 251
    },
    "colab_type": "code",
    "executionInfo": {
     "elapsed": 537,
     "status": "ok",
     "timestamp": 1566281037364,
     "user": {
      "displayName": "김정욱",
      "photoUrl": "",
      "userId": "07474346534880337789"
     },
     "user_tz": -540
    },
    "id": "4p-16mWw5Rr9",
    "outputId": "77f93df7-fe77-4da3-b1e6-0327eb1c5c88"
   },
   "outputs": [],
   "source": [
    "df.dtypes"
   ]
  },
  {
   "cell_type": "code",
   "execution_count": null,
   "metadata": {
    "colab": {
     "base_uri": "https://localhost:8080/",
     "height": 204
    },
    "colab_type": "code",
    "executionInfo": {
     "elapsed": 543,
     "status": "ok",
     "timestamp": 1566281043095,
     "user": {
      "displayName": "김정욱",
      "photoUrl": "",
      "userId": "07474346534880337789"
     },
     "user_tz": -540
    },
    "id": "0JYuNT2k5RsC",
    "outputId": "bae247ba-d4d7-4898-af8e-08cca7889f2e"
   },
   "outputs": [],
   "source": [
    "df.head()"
   ]
  },
  {
   "cell_type": "markdown",
   "metadata": {
    "colab_type": "text",
    "id": "35-josyjl7hf"
   },
   "source": [
    "## 연 또는 월 데이터만 가져오기\n"
   ]
  },
  {
   "cell_type": "code",
   "execution_count": null,
   "metadata": {
    "colab": {
     "base_uri": "https://localhost:8080/",
     "height": 125
    },
    "colab_type": "code",
    "executionInfo": {
     "elapsed": 516,
     "status": "ok",
     "timestamp": 1566281098951,
     "user": {
      "displayName": "김정욱",
      "photoUrl": "",
      "userId": "07474346534880337789"
     },
     "user_tz": -540
    },
    "id": "f3I6Ht885RsK",
    "outputId": "d022aec5-99ea-4ab7-9649-a0cb7b6eb83b"
   },
   "outputs": [],
   "source": [
    "df[\"날짜\"].dt.year[:5]"
   ]
  },
  {
   "cell_type": "code",
   "execution_count": null,
   "metadata": {
    "colab": {
     "base_uri": "https://localhost:8080/",
     "height": 125
    },
    "colab_type": "code",
    "executionInfo": {
     "elapsed": 537,
     "status": "ok",
     "timestamp": 1566281102631,
     "user": {
      "displayName": "김정욱",
      "photoUrl": "",
      "userId": "07474346534880337789"
     },
     "user_tz": -540
    },
    "id": "bpgFMyAU5RsP",
    "outputId": "d1ff6789-c62a-458d-a7a5-1ba73ff4c492"
   },
   "outputs": [],
   "source": [
    "df[\"날짜\"].dt.month[:5]"
   ]
  },
  {
   "cell_type": "markdown",
   "metadata": {
    "colab_type": "text",
    "id": "HQM6VCpxl__x"
   },
   "source": [
    "## 비어 있는 값 확인하기\n"
   ]
  },
  {
   "cell_type": "code",
   "execution_count": null,
   "metadata": {
    "colab": {
     "base_uri": "https://localhost:8080/",
     "height": 49
    },
    "colab_type": "code",
    "executionInfo": {
     "elapsed": 540,
     "status": "ok",
     "timestamp": 1566281117648,
     "user": {
      "displayName": "김정욱",
      "photoUrl": "",
      "userId": "07474346534880337789"
     },
     "user_tz": -540
    },
    "id": "X1AbM-305RsT",
    "outputId": "6307e184-ad78-4dd2-871d-256d68ddd8b2"
   },
   "outputs": [],
   "source": [
    "df[df[\"지역명\"].isnull()]"
   ]
  },
  {
   "cell_type": "code",
   "execution_count": null,
   "metadata": {
    "colab": {
     "base_uri": "https://localhost:8080/",
     "height": 204
    },
    "colab_type": "code",
    "executionInfo": {
     "elapsed": 531,
     "status": "ok",
     "timestamp": 1566281119090,
     "user": {
      "displayName": "김정욱",
      "photoUrl": "",
      "userId": "07474346534880337789"
     },
     "user_tz": -540
    },
    "id": "mT9Id5Si5RsY",
    "outputId": "41f55819-05bc-4850-ffec-922b134eedb4"
   },
   "outputs": [],
   "source": [
    "df[df[\"광역권\"].isnull()].head()"
   ]
  },
  {
   "cell_type": "markdown",
   "metadata": {
    "colab_type": "text",
    "id": "HKo5GPvumDS7"
   },
   "source": [
    "## 비어 있는 값에 값 채우기 \n"
   ]
  },
  {
   "cell_type": "code",
   "execution_count": null,
   "metadata": {
    "colab": {},
    "colab_type": "code",
    "id": "WBcr65895Rsc"
   },
   "outputs": [],
   "source": [
    "df.loc[df[\"광역권\"].isnull(), \"광역권\"]=\"비수도권\""
   ]
  },
  {
   "cell_type": "code",
   "execution_count": null,
   "metadata": {
    "colab": {
     "base_uri": "https://localhost:8080/",
     "height": 49
    },
    "colab_type": "code",
    "executionInfo": {
     "elapsed": 510,
     "status": "ok",
     "timestamp": 1566281130185,
     "user": {
      "displayName": "김정욱",
      "photoUrl": "",
      "userId": "07474346534880337789"
     },
     "user_tz": -540
    },
    "id": "pxuNKT4j5Rsf",
    "outputId": "be73a6dc-01a7-4964-b65f-f0aab9683625"
   },
   "outputs": [],
   "source": [
    "df[df[\"광역권\"].isnull()]"
   ]
  },
  {
   "cell_type": "code",
   "execution_count": null,
   "metadata": {
    "colab": {
     "base_uri": "https://localhost:8080/",
     "height": 204
    },
    "colab_type": "code",
    "executionInfo": {
     "elapsed": 514,
     "status": "ok",
     "timestamp": 1566281131499,
     "user": {
      "displayName": "김정욱",
      "photoUrl": "",
      "userId": "07474346534880337789"
     },
     "user_tz": -540
    },
    "id": "fqxtDNpY5Rsm",
    "outputId": "cd83f08f-16ca-4ecf-f07f-7cced41a21e3"
   },
   "outputs": [],
   "source": [
    "df.tail()"
   ]
  },
  {
   "cell_type": "markdown",
   "metadata": {
    "colab_type": "text",
    "id": "fUtO4HrfmLb5"
   },
   "source": [
    "## 새로운 컬럼 만들어서 비어 있는 값에 값 채우기 (1) \n"
   ]
  },
  {
   "cell_type": "code",
   "execution_count": null,
   "metadata": {
    "colab": {
     "base_uri": "https://localhost:8080/",
     "height": 204
    },
    "colab_type": "code",
    "executionInfo": {
     "elapsed": 542,
     "status": "ok",
     "timestamp": 1566281139555,
     "user": {
      "displayName": "김정욱",
      "photoUrl": "",
      "userId": "07474346534880337789"
     },
     "user_tz": -540
    },
    "id": "QrISzGot5Rsr",
    "outputId": "c6b6daf0-4c03-4569-f435-582c83090756"
   },
   "outputs": [],
   "source": [
    "df[df[\"분양가\"].isnull()][:5]"
   ]
  },
  {
   "cell_type": "code",
   "execution_count": null,
   "metadata": {
    "colab": {},
    "colab_type": "code",
    "id": "nDxtPPbM5Rsu"
   },
   "outputs": [],
   "source": [
    "df.loc[df[\"분양가\"].isnull(),\"분양가(not null)\"]=df[\"분양가\"].mean()"
   ]
  },
  {
   "cell_type": "code",
   "execution_count": null,
   "metadata": {
    "colab": {
     "base_uri": "https://localhost:8080/",
     "height": 204
    },
    "colab_type": "code",
    "executionInfo": {
     "elapsed": 583,
     "status": "ok",
     "timestamp": 1566281154437,
     "user": {
      "displayName": "김정욱",
      "photoUrl": "",
      "userId": "07474346534880337789"
     },
     "user_tz": -540
    },
    "id": "P5p9V7I75Rsx",
    "outputId": "cee3d386-641c-47cd-a160-565890056b3a"
   },
   "outputs": [],
   "source": [
    "df[df[\"분양가\"].isnull()][:5]"
   ]
  },
  {
   "cell_type": "markdown",
   "metadata": {
    "colab_type": "text",
    "id": "v96pMeeFmTmD"
   },
   "source": [
    "## 새로운 컬럼 만들어서 비어 있는 값에 값 채우기 (2) \n"
   ]
  },
  {
   "cell_type": "code",
   "execution_count": null,
   "metadata": {
    "colab": {},
    "colab_type": "code",
    "id": "-WQQeCip5Rs2"
   },
   "outputs": [],
   "source": [
    "df[\"평당분양가(not null)\"]=df[\"평당분양가\"].fillna(0)"
   ]
  },
  {
   "cell_type": "code",
   "execution_count": null,
   "metadata": {
    "colab": {
     "base_uri": "https://localhost:8080/",
     "height": 204
    },
    "colab_type": "code",
    "executionInfo": {
     "elapsed": 506,
     "status": "ok",
     "timestamp": 1566281220761,
     "user": {
      "displayName": "김정욱",
      "photoUrl": "",
      "userId": "07474346534880337789"
     },
     "user_tz": -540
    },
    "id": "sm52URxd5Rs4",
    "outputId": "13cd6425-651a-40dc-da54-c6a3df5d5b25"
   },
   "outputs": [],
   "source": [
    "df[df[\"평당분양가\"].isnull()].head()"
   ]
  },
  {
   "cell_type": "code",
   "execution_count": null,
   "metadata": {
    "colab": {},
    "colab_type": "code",
    "id": "YMep0tKtpEdS"
   },
   "outputs": [],
   "source": [
    "df=df.drop(['연도(str)', '월(str)','분양가(not null)', '평당분양가(not null)'] , axis=1)"
   ]
  },
  {
   "cell_type": "markdown",
   "metadata": {
    "colab_type": "text",
    "id": "ZmR7ExNNmYWp"
   },
   "source": [
    "## 등호 활용하여 특정 조건에 해당하는 데이터 검색하기\n"
   ]
  },
  {
   "cell_type": "code",
   "execution_count": null,
   "metadata": {
    "colab": {
     "base_uri": "https://localhost:8080/",
     "height": 204
    },
    "colab_type": "code",
    "executionInfo": {
     "elapsed": 531,
     "status": "ok",
     "timestamp": 1566281465492,
     "user": {
      "displayName": "김정욱",
      "photoUrl": "",
      "userId": "07474346534880337789"
     },
     "user_tz": -540
    },
    "id": "zI2QVBoZ5Rs-",
    "outputId": "19e00caa-4754-4e4f-d55c-de6acee9cd51"
   },
   "outputs": [],
   "source": [
    "df[df[\"지역명\"]==\"부산\"].head()"
   ]
  },
  {
   "cell_type": "markdown",
   "metadata": {
    "colab_type": "text",
    "id": "LHtJL5NwmdjI"
   },
   "source": [
    "## 부등호 활용하여 특정 조건에 해당하는 데이터 검색하기\n"
   ]
  },
  {
   "cell_type": "code",
   "execution_count": null,
   "metadata": {
    "colab": {
     "base_uri": "https://localhost:8080/",
     "height": 204
    },
    "colab_type": "code",
    "executionInfo": {
     "elapsed": 524,
     "status": "ok",
     "timestamp": 1566281690643,
     "user": {
      "displayName": "김정욱",
      "photoUrl": "",
      "userId": "07474346534880337789"
     },
     "user_tz": -540
    },
    "id": "NEsdiBdy5RtA",
    "outputId": "64aa24fc-18d5-4817-bd2e-6ca1f0744568"
   },
   "outputs": [],
   "source": [
    "df[df[\"평당분양가\"]>2000].head()"
   ]
  },
  {
   "cell_type": "markdown",
   "metadata": {
    "colab_type": "text",
    "id": "VA33V4XBmg9C"
   },
   "source": [
    "## 여러 특정 값에 해당하는 데이터 검색하기\n"
   ]
  },
  {
   "cell_type": "code",
   "execution_count": null,
   "metadata": {
    "colab": {
     "base_uri": "https://localhost:8080/",
     "height": 204
    },
    "colab_type": "code",
    "executionInfo": {
     "elapsed": 548,
     "status": "ok",
     "timestamp": 1566281721551,
     "user": {
      "displayName": "김정욱",
      "photoUrl": "",
      "userId": "07474346534880337789"
     },
     "user_tz": -540
    },
    "id": "tf66t05E5RtD",
    "outputId": "408f5601-0d0f-4933-92a8-77857fc66d3b"
   },
   "outputs": [],
   "source": [
    "df[df[\"규모구분\"].isin([\"60㎡이하\", \"60㎡초과 85㎡이하\"])].head()"
   ]
  },
  {
   "cell_type": "markdown",
   "metadata": {
    "colab_type": "text",
    "id": "NI12U4fGmlrf"
   },
   "source": [
    "## 특정 문자가 들어가 있는 데이터 검색하기\n"
   ]
  },
  {
   "cell_type": "code",
   "execution_count": null,
   "metadata": {
    "colab": {
     "base_uri": "https://localhost:8080/",
     "height": 204
    },
    "colab_type": "code",
    "executionInfo": {
     "elapsed": 527,
     "status": "ok",
     "timestamp": 1566281729320,
     "user": {
      "displayName": "김정욱",
      "photoUrl": "",
      "userId": "07474346534880337789"
     },
     "user_tz": -540
    },
    "id": "wAbZtf3K5RtK",
    "outputId": "2e213f3e-7125-4c41-a94e-af8a71fc261a"
   },
   "outputs": [],
   "source": [
    "df[df[\"규모구분\"].str.contains(\"102㎡\")].head()"
   ]
  },
  {
   "cell_type": "markdown",
   "metadata": {
    "colab_type": "text",
    "id": "kW16QO6CmruP"
   },
   "source": [
    "## 여러 조건 중 하나만 성립해도 데이터 검색하기\n"
   ]
  },
  {
   "cell_type": "code",
   "execution_count": null,
   "metadata": {
    "colab": {
     "base_uri": "https://localhost:8080/",
     "height": 574
    },
    "colab_type": "code",
    "executionInfo": {
     "elapsed": 530,
     "status": "error",
     "timestamp": 1566281882325,
     "user": {
      "displayName": "김정욱",
      "photoUrl": "",
      "userId": "07474346534880337789"
     },
     "user_tz": -540
    },
    "id": "ovm-4MEa5RtW",
    "outputId": "e5a16ffe-9354-422f-e18c-26317e8151aa"
   },
   "outputs": [],
   "source": [
    "df[df[\"규모구분\"] =='85㎡초과 102㎡이하' | df[\"지역명\"] == \"서울\"].head()"
   ]
  },
  {
   "cell_type": "code",
   "execution_count": null,
   "metadata": {
    "colab": {
     "base_uri": "https://localhost:8080/",
     "height": 204
    },
    "colab_type": "code",
    "executionInfo": {
     "elapsed": 525,
     "status": "ok",
     "timestamp": 1566281887634,
     "user": {
      "displayName": "김정욱",
      "photoUrl": "",
      "userId": "07474346534880337789"
     },
     "user_tz": -540
    },
    "id": "ChJpjRX75RtY",
    "outputId": "9abe8e2f-a6a4-42b5-9311-82d26e149690"
   },
   "outputs": [],
   "source": [
    "df[(df[\"규모구분\"] =='85㎡초과 102㎡이하') | (df[\"지역명\"] == \"서울\")].head()"
   ]
  },
  {
   "cell_type": "markdown",
   "metadata": {
    "colab_type": "text",
    "id": "7VD84XJDmwGQ"
   },
   "source": [
    "## 여러 조건을 모두 만족하는 데이터 검색해서 새로운 변수에 저장하기\n"
   ]
  },
  {
   "cell_type": "code",
   "execution_count": null,
   "metadata": {
    "colab": {
     "base_uri": "https://localhost:8080/",
     "height": 204
    },
    "colab_type": "code",
    "executionInfo": {
     "elapsed": 531,
     "status": "ok",
     "timestamp": 1566281899470,
     "user": {
      "displayName": "김정욱",
      "photoUrl": "",
      "userId": "07474346534880337789"
     },
     "user_tz": -540
    },
    "id": "CJsuIFSI5Rta",
    "outputId": "4c171821-463c-4699-ad1e-fd226580cff6"
   },
   "outputs": [],
   "source": [
    "df[(df[\"규모구분\"] =='85㎡초과 102㎡이하') & (df[\"지역명\"] == \"서울\")].head()"
   ]
  },
  {
   "cell_type": "code",
   "execution_count": null,
   "metadata": {
    "colab": {
     "base_uri": "https://localhost:8080/",
     "height": 204
    },
    "colab_type": "code",
    "executionInfo": {
     "elapsed": 613,
     "status": "ok",
     "timestamp": 1566282089779,
     "user": {
      "displayName": "김정욱",
      "photoUrl": "",
      "userId": "07474346534880337789"
     },
     "user_tz": -540
    },
    "id": "QySHdhl4ruGM",
    "outputId": "a18e77f7-dc4a-476a-e5ce-b27cdf3c54cc"
   },
   "outputs": [],
   "source": [
    "df2=df[(df[\"규모구분\"] =='85㎡초과 102㎡이하') & (df[\"지역명\"] == \"서울\")]\n",
    "df2.head()"
   ]
  },
  {
   "cell_type": "markdown",
   "metadata": {
    "colab_type": "text",
    "id": "QvqZoJ58m4Kj"
   },
   "source": [
    "## 앞 행의 데이터 가져오기\n"
   ]
  },
  {
   "cell_type": "code",
   "execution_count": null,
   "metadata": {
    "colab": {
     "base_uri": "https://localhost:8080/",
     "height": 312
    },
    "colab_type": "code",
    "executionInfo": {
     "elapsed": 591,
     "status": "ok",
     "timestamp": 1566287418113,
     "user": {
      "displayName": "김정욱",
      "photoUrl": "",
      "userId": "07474346534880337789"
     },
     "user_tz": -540
    },
    "id": "hutWGAJosCD3",
    "outputId": "4b761d42-7de3-4691-890c-5f5e975d611c"
   },
   "outputs": [],
   "source": [
    "df2['분양가(전월대비)'] = df2['분양가'].shift(+1)\n",
    "df2.head()"
   ]
  },
  {
   "cell_type": "markdown",
   "metadata": {
    "colab_type": "text",
    "id": "aCcMn5u1m7zK"
   },
   "source": [
    "## 뒤 행의 데이터 가져오기\n"
   ]
  },
  {
   "cell_type": "code",
   "execution_count": null,
   "metadata": {
    "colab": {
     "base_uri": "https://localhost:8080/",
     "height": 312
    },
    "colab_type": "code",
    "executionInfo": {
     "elapsed": 621,
     "status": "ok",
     "timestamp": 1566282274427,
     "user": {
      "displayName": "김정욱",
      "photoUrl": "",
      "userId": "07474346534880337789"
     },
     "user_tz": -540
    },
    "id": "3ImP7oA2sCSR",
    "outputId": "575784ba-9304-4e81-e969-f8b0f8952ac5"
   },
   "outputs": [],
   "source": [
    "df2['분양가(익월대비)'] = df2['분양가'].shift(-1)\n",
    "df2.head()"
   ]
  },
  {
   "cell_type": "markdown",
   "metadata": {
    "colab_type": "text",
    "id": "NePNAwLbnHEW"
   },
   "source": [
    "## 특정 조건으로 컬럼 검색하기\n"
   ]
  },
  {
   "cell_type": "code",
   "execution_count": null,
   "metadata": {
    "colab": {
     "base_uri": "https://localhost:8080/",
     "height": 204
    },
    "colab_type": "code",
    "executionInfo": {
     "elapsed": 529,
     "status": "ok",
     "timestamp": 1566282301265,
     "user": {
      "displayName": "김정욱",
      "photoUrl": "",
      "userId": "07474346534880337789"
     },
     "user_tz": -540
    },
    "id": "HjoH5HIA5Rth",
    "outputId": "5ff3ccd0-fb69-4dee-dc9e-5b5eee2751d7"
   },
   "outputs": [],
   "source": [
    "df.loc[df[\"지역명\"] == \"서울\", [\"평당분양가\"]].head()"
   ]
  },
  {
   "cell_type": "markdown",
   "metadata": {
    "colab_type": "text",
    "id": "UxwTjIzFnIuy"
   },
   "source": []
  },
  {
   "cell_type": "code",
   "execution_count": null,
   "metadata": {
    "colab": {
     "base_uri": "https://localhost:8080/",
     "height": 204
    },
    "colab_type": "code",
    "executionInfo": {
     "elapsed": 512,
     "status": "ok",
     "timestamp": 1566282304322,
     "user": {
      "displayName": "김정욱",
      "photoUrl": "",
      "userId": "07474346534880337789"
     },
     "user_tz": -540
    },
    "id": "lkjEh48X5Rtk",
    "outputId": "f53cbcd7-bd2c-4b38-d874-dc7eb47f21d2"
   },
   "outputs": [],
   "source": [
    "df.loc[df[\"지역명\"] == \"서울\", [\"규모구분\", \"날짜\",\"평당분양가\"]].head()"
   ]
  },
  {
   "cell_type": "markdown",
   "metadata": {
    "colab_type": "text",
    "id": "EuG89uyAnNdp"
   },
   "source": [
    "## 피벗테이블로 보기\n"
   ]
  },
  {
   "cell_type": "code",
   "execution_count": null,
   "metadata": {
    "colab": {
     "base_uri": "https://localhost:8080/",
     "height": 607
    },
    "colab_type": "code",
    "executionInfo": {
     "elapsed": 548,
     "status": "ok",
     "timestamp": 1566282320428,
     "user": {
      "displayName": "김정욱",
      "photoUrl": "",
      "userId": "07474346534880337789"
     },
     "user_tz": -540
    },
    "id": "cF6D-opB5Rtm",
    "outputId": "5da10497-15e8-4f05-c1df-f7c5bac0242a"
   },
   "outputs": [],
   "source": [
    "pd.pivot_table(df,index=\"지역명\", values=\"평당분양가\")"
   ]
  },
  {
   "cell_type": "code",
   "execution_count": null,
   "metadata": {
    "colab": {
     "base_uri": "https://localhost:8080/",
     "height": 1000
    },
    "colab_type": "code",
    "executionInfo": {
     "elapsed": 516,
     "status": "ok",
     "timestamp": 1566282324600,
     "user": {
      "displayName": "김정욱",
      "photoUrl": "",
      "userId": "07474346534880337789"
     },
     "user_tz": -540
    },
    "id": "vPD-7a0I5Rtp",
    "outputId": "e73f06ed-ee16-4d75-abca-d25068a00c68"
   },
   "outputs": [],
   "source": [
    "pd.pivot_table(df,index=[\"지역명\",\"규모구분\"], values=\"평당분양가\")"
   ]
  },
  {
   "cell_type": "markdown",
   "metadata": {
    "colab_type": "text",
    "id": "Vtd5wu0RnS7E"
   },
   "source": [
    "## 파일로 저장하기"
   ]
  },
  {
   "cell_type": "code",
   "execution_count": null,
   "metadata": {
    "colab": {},
    "colab_type": "code",
    "id": "-OTNC7nc5Rtr"
   },
   "outputs": [],
   "source": [
    "writer = pd.ExcelWriter('house_price_result1.xlsx')\n",
    "df.to_excel(writer)\n",
    "writer.save()\n",
    "\n"
   ]
  },
  {
   "cell_type": "code",
   "execution_count": null,
   "metadata": {
    "colab": {},
    "colab_type": "code",
    "id": "RRwNpppi5Rtu"
   },
   "outputs": [],
   "source": [
    "from google.colab import files\n",
    "files.download('house_price_result1.xlsx')\n"
   ]
  },
  {
   "cell_type": "code",
   "execution_count": null,
   "metadata": {
    "colab": {},
    "colab_type": "code",
    "id": "uSvUK5dYBzGs"
   },
   "outputs": [],
   "source": [
    "writer = pd.ExcelWriter('house_price_result2.xlsx')\n",
    "df2.to_excel(writer)\n",
    "writer.save()\n"
   ]
  },
  {
   "cell_type": "code",
   "execution_count": null,
   "metadata": {
    "colab": {},
    "colab_type": "code",
    "id": "JhVu102MB2fF"
   },
   "outputs": [],
   "source": [
    "from google.colab import files\n",
    "files.download('house_price_result2.xlsx')\n"
   ]
  }
 ],
 "metadata": {
  "colab": {
   "collapsed_sections": [],
   "name": "datascience_week_01.ipynb의 사본",
   "provenance": [
    {
     "file_id": "1pUPi4IBqOCLN7GO33K_Slbkv3QKPGlNW",
     "timestamp": 1566287992401
    },
    {
     "file_id": "https://github.com/braincrew/data_science_beginners/blob/master/day1/datascience_week_01.ipynb",
     "timestamp": 1565766316426
    }
   ],
   "version": "0.3.2"
  },
  "kernelspec": {
   "display_name": "Python 3",
   "language": "python",
   "name": "python3"
  },
  "language_info": {
   "codemirror_mode": {
    "name": "ipython",
    "version": 3
   },
   "file_extension": ".py",
   "mimetype": "text/x-python",
   "name": "python",
   "nbconvert_exporter": "python",
   "pygments_lexer": "ipython3",
   "version": "3.7.1"
  }
 },
 "nbformat": 4,
 "nbformat_minor": 1
}
